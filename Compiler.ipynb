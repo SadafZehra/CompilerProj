{
 "cells": [
  {
   "cell_type": "code",
   "execution_count": 1,
   "metadata": {},
   "outputs": [],
   "source": [
    "with open('SAF.txt','r')as f:\n",
    "    string=f.read()"
   ]
  },
  {
   "cell_type": "code",
   "execution_count": 6,
   "metadata": {},
   "outputs": [
    {
     "name": "stdout",
     "output_type": "stream",
     "text": [
      "int\n",
      "a\n",
      "=\n",
      "5newlineint\n",
      "a\n",
      "=\n",
      "5newlinevar\n",
      "new\n",
      ",\n",
      "new\n",
      ",\n"
     ]
    }
   ],
   "source": [
    "\n",
    "string= ''' int a = 3 int a=3\n",
    "        int+-67 /=-+ \n",
    "        '''\n",
    "\n",
    "symbols = ['=',',','/']\n",
    "op = ['+','-','*']\n",
    "key = symbols + op\n",
    "space = ' '\n",
    "lex = ''\n",
    "for i, char in enumerate(string):\n",
    "    if char != space:\n",
    "        lex += char\n",
    "    if(i+1 < len(string)):\n",
    "        if string[i+1]== space or string[i+1] in key or lex in key:\n",
    "            if lex != '':\n",
    "                print (lex.replace('\\n', 'newline'))\n",
    "                lex = ''"
   ]
  },
  {
   "cell_type": "code",
   "execution_count": 10,
   "metadata": {},
   "outputs": [
    {
     "name": "stdout",
     "output_type": "stream",
     "text": [
      "9.9\n"
     ]
    },
    {
     "ename": "AttributeError",
     "evalue": "'NoneType' object has no attribute 'group'",
     "output_type": "error",
     "traceback": [
      "\u001b[1;31m---------------------------------------------------------------------------\u001b[0m",
      "\u001b[1;31mAttributeError\u001b[0m                            Traceback (most recent call last)",
      "\u001b[1;32m<ipython-input-10-0f9293b2e5e9>\u001b[0m in \u001b[0;36m<module>\u001b[1;34m\u001b[0m\n\u001b[0;32m      2\u001b[0m \u001b[0minp\u001b[0m \u001b[1;33m=\u001b[0m \u001b[0minput\u001b[0m\u001b[1;33m(\u001b[0m\u001b[1;33m)\u001b[0m\u001b[1;33m\u001b[0m\u001b[1;33m\u001b[0m\u001b[0m\n\u001b[0;32m      3\u001b[0m \u001b[0mline\u001b[0m \u001b[1;33m=\u001b[0m \u001b[0mre\u001b[0m\u001b[1;33m.\u001b[0m\u001b[0mmatch\u001b[0m\u001b[1;33m(\u001b[0m\u001b[1;34mr'^[+-]?[0-9]+$'\u001b[0m\u001b[1;33m,\u001b[0m\u001b[0minp\u001b[0m\u001b[1;33m)\u001b[0m\u001b[1;33m\u001b[0m\u001b[1;33m\u001b[0m\u001b[0m\n\u001b[1;32m----> 4\u001b[1;33m \u001b[0mprint\u001b[0m\u001b[1;33m(\u001b[0m\u001b[0mline\u001b[0m\u001b[1;33m.\u001b[0m\u001b[0mgroup\u001b[0m\u001b[1;33m(\u001b[0m\u001b[1;33m)\u001b[0m\u001b[1;33m)\u001b[0m\u001b[1;33m\u001b[0m\u001b[1;33m\u001b[0m\u001b[0m\n\u001b[0m",
      "\u001b[1;31mAttributeError\u001b[0m: 'NoneType' object has no attribute 'group'"
     ]
    }
   ],
   "source": [
    "import re\n",
    "inp = input()\n",
    "line = re.match(r'^[+-]?[0-9]+$',inp)\n",
    "print(line.group())\n"
   ]
  },
  {
   "cell_type": "code",
   "execution_count": 18,
   "metadata": {},
   "outputs": [
    {
     "name": "stdout",
     "output_type": "stream",
     "text": [
      ".98\n",
      ".98\n"
     ]
    }
   ],
   "source": [
    "import re\n",
    "inp = input()\n",
    "line = re.match(r'^[+-]?[0-9]*(.)[0-9]+$',inp)\n",
    "print(line.group())\n"
   ]
  },
  {
   "cell_type": "code",
   "execution_count": 1,
   "metadata": {},
   "outputs": [
    {
     "name": "stdout",
     "output_type": "stream",
     "text": [
      "\"popi\"\n"
     ]
    },
    {
     "ename": "AttributeError",
     "evalue": "'NoneType' object has no attribute 'group'",
     "output_type": "error",
     "traceback": [
      "\u001b[1;31m---------------------------------------------------------------------------\u001b[0m",
      "\u001b[1;31mAttributeError\u001b[0m                            Traceback (most recent call last)",
      "\u001b[1;32m<ipython-input-1-5d422f2449ea>\u001b[0m in \u001b[0;36m<module>\u001b[1;34m\u001b[0m\n\u001b[0;32m      2\u001b[0m \u001b[0minp\u001b[0m \u001b[1;33m=\u001b[0m \u001b[0minput\u001b[0m\u001b[1;33m(\u001b[0m\u001b[1;33m)\u001b[0m\u001b[1;33m\u001b[0m\u001b[1;33m\u001b[0m\u001b[0m\n\u001b[0;32m      3\u001b[0m \u001b[0mline\u001b[0m \u001b[1;33m=\u001b[0m \u001b[0mre\u001b[0m\u001b[1;33m.\u001b[0m\u001b[0mmatch\u001b[0m\u001b[1;33m(\u001b[0m\u001b[1;34mr'\"^_+[a-zA-Z_0-9]*[A-Za-z0-9]|[A-Za-z]+|[A-Za-z]+|[A-Za-z]+[A-Za-z_0-9]*[A-Za-z0-9]$\"'\u001b[0m\u001b[1;33m,\u001b[0m\u001b[0minp\u001b[0m\u001b[1;33m)\u001b[0m\u001b[1;33m\u001b[0m\u001b[1;33m\u001b[0m\u001b[0m\n\u001b[1;32m----> 4\u001b[1;33m \u001b[0mprint\u001b[0m\u001b[1;33m(\u001b[0m\u001b[0mline\u001b[0m\u001b[1;33m.\u001b[0m\u001b[0mgroup\u001b[0m\u001b[1;33m(\u001b[0m\u001b[1;33m)\u001b[0m\u001b[1;33m)\u001b[0m\u001b[1;33m\u001b[0m\u001b[1;33m\u001b[0m\u001b[0m\n\u001b[0m",
      "\u001b[1;31mAttributeError\u001b[0m: 'NoneType' object has no attribute 'group'"
     ]
    }
   ],
   "source": [
    "import re\n",
    "inp = input()\n",
    "line = re.match(r'\"^_+[a-zA-Z_0-9]*[A-Za-z0-9]|[A-Za-z]+|[A-Za-z]+|[A-Za-z]+[A-Za-z_0-9]*[A-Za-z0-9]$\"',inp)\n",
    "print(line.group())\n"
   ]
  },
  {
   "cell_type": "code",
   "execution_count": 21,
   "metadata": {},
   "outputs": [
    {
     "name": "stdout",
     "output_type": "stream",
     "text": [
      "7\n"
     ]
    }
   ],
   "source": [
    "_99a = 7\n",
    "print(_99a)"
   ]
  },
  {
   "cell_type": "code",
   "execution_count": 24,
   "metadata": {},
   "outputs": [
    {
     "name": "stdout",
     "output_type": "stream",
     "text": [
      "{'if': 'if', 'switch': 'switch', 'case': 'case', 'break': 'break', 'default': 'default', 'iterate': 'iterate', 'in': 'in', 'range': 'range', 'while': 'while', 'elif': 'elif', 'else': 'else', 'class': 'class', 'return': 'return', 'num': 'DT', 'dec': 'DT', 'char': 'DT', 'string': 'DT', 'flag': 'DT', '1': 'flag', '0': 'flag', 'func': 'func', 'safe': 'safe', 'personal': 'personal', 'available': 'available', 'locked': 'locked', 'banned': 'banned', 'implicit': 'implicit', 'overwritten': 'overwritten'}\n"
     ]
    }
   ],
   "source": [
    "keyword = {\"if\":\"if\",\"switch\":\"switch\",\"case\":\"case\",\"break\":\"break\",\"default\":\"default\",\"iterate\":\"iterate\",\n",
    "          \"in\":\"in\",\"range\":\"range\",\"while\":\"while\",\"elif\":\"elif\",\"else\":\"else\",\"class\":\"class\",\"return\":\"return\",\n",
    "          \"num\":\"DT\",\"dec\":\"DT\",\"char\":\"DT\",\"string\":\"DT\",\"flag\":\"DT\",\"1\":\"flag\",\"0\":\"flag\",\"func\":\"func\",\"safe\":\"safe\",\n",
    "          \"personal\":\"personal\",\"available\":\"available\",\"locked\":\"locked\",\"banned\":\"banned\",\"implicit\":\"implicit\",\n",
    "          \"overwritten\":\"overwritten\"}\n",
    "print(keyword)"
   ]
  },
  {
   "cell_type": "code",
   "execution_count": 34,
   "metadata": {},
   "outputs": [
    {
     "name": "stdout",
     "output_type": "stream",
     "text": [
      "{'+': 'PM', '-': 'PM', '*': 'MDM', '/': 'MDM', '%': 'MDM', '!': 'NOT', '~': 'NOT', '&&': '&&', '||': '||', 'band': 'band', 'bor': 'bor', '<': 'RO', '>': 'RO', '<=': 'RO', '>=': 'RO', '!=': 'RO', '==': 'RO', '=': 'Assign', '<<': 'shiftOp', '>>': 'shiftOp', '+=': 'AssignOp', '*=': 'AssignOp', '/=': 'AssignOp', '%=': 'AssignOp', '<<=': 'AssignOp', '>>=': 'AssignOp', '++': 'Inc_Dec', '--': 'Inc_Dec'}\n"
     ]
    }
   ],
   "source": [
    "opr = {\"+\":\"PM\",\"-\":\"PM\",\"*\":\"MDM\",\"/\":\"MDM\",\"%\":\"MDM\",\"!\":\"NOT\",\"~\":\"NOT\",\"&&\":\"&&\",\"||\":\"||\",\"band\":\"band\",\"bor\":\"bor\",\n",
    "      \"<\":\"RO\",\">\":\"RO\",\"<=\":\"RO\",\">=\":\"RO\",\"!=\":\"RO\",\"==\":\"RO\",\"=\":\"Assign\",\"<<\":\"shiftOp\",\">>\":\"shiftOp\",\"+=\":\"AssignOp\",\n",
    "       \"*=\":\"AssignOp\",\"/=\":\"AssignOp\",\"%=\":\"AssignOp\",\"<<=\":\"AssignOp\",\">>=\":\"AssignOp\",\"++\":\"Inc_Dec\",\"--\":\"Inc_Dec\"}\n",
    "print(opr)"
   ]
  },
  {
   "cell_type": "code",
   "execution_count": 33,
   "metadata": {},
   "outputs": [
    {
     "name": "stdout",
     "output_type": "stream",
     "text": [
      "{',': ',', ';': ';', ':': ':', '.': '.', '{': '{', '}': '}', '(': '(', ')': ')', '[': '[', ']': ']'}\n"
     ]
    }
   ],
   "source": [
    "punc = {\",\":\",\" , \";\":\";\" , \":\":\":\" , \".\":\".\" , \"{\":\"{\" , \"}\":\"}\" , \"(\":\"(\" , \")\":\")\" ,\n",
    "        \"[\":\"[\" , \"]\":\"]\" }\n",
    "print(punc)"
   ]
  },
  {
   "cell_type": "code",
   "execution_count": 14,
   "metadata": {},
   "outputs": [
    {
     "name": "stdout",
     "output_type": "stream",
     "text": [
      "'@'\n",
      "'@'\n"
     ]
    }
   ],
   "source": [
    "import re\n",
    "inp = input()\n",
    "line = re.match(r\"^'[a-zA-Z0-9]'$|^'[-+@]'$|^'\\\\[\\'\\\"\\\\]'$|^'\\\\[ntrbo]'$\",inp)\n",
    "print(line.group())\n"
   ]
  },
  {
   "cell_type": "code",
   "execution_count": 15,
   "metadata": {},
   "outputs": [
    {
     "name": "stdout",
     "output_type": "stream",
     "text": [
      "\"\\n\\n\"\n"
     ]
    },
    {
     "ename": "AttributeError",
     "evalue": "'NoneType' object has no attribute 'group'",
     "output_type": "error",
     "traceback": [
      "\u001b[1;31m---------------------------------------------------------------------------\u001b[0m",
      "\u001b[1;31mAttributeError\u001b[0m                            Traceback (most recent call last)",
      "\u001b[1;32m<ipython-input-15-e393c33a6e36>\u001b[0m in \u001b[0;36m<module>\u001b[1;34m\u001b[0m\n\u001b[0;32m      2\u001b[0m \u001b[0minp\u001b[0m \u001b[1;33m=\u001b[0m \u001b[0minput\u001b[0m\u001b[1;33m(\u001b[0m\u001b[1;33m)\u001b[0m\u001b[1;33m\u001b[0m\u001b[1;33m\u001b[0m\u001b[0m\n\u001b[0;32m      3\u001b[0m \u001b[0mline\u001b[0m \u001b[1;33m=\u001b[0m \u001b[0mre\u001b[0m\u001b[1;33m.\u001b[0m\u001b[0mmatch\u001b[0m\u001b[1;33m(\u001b[0m\u001b[1;34mr'^\"[a-zA-Z0-9]+\"$|^\"[+-@]+\"$|^\"\\\\[\\'\\\"\\\\]+\"$|^\"\\\\[ntrbo]+\"$'\u001b[0m\u001b[1;33m,\u001b[0m\u001b[0minp\u001b[0m\u001b[1;33m)\u001b[0m\u001b[1;33m\u001b[0m\u001b[1;33m\u001b[0m\u001b[0m\n\u001b[1;32m----> 4\u001b[1;33m \u001b[0mprint\u001b[0m\u001b[1;33m(\u001b[0m\u001b[0mline\u001b[0m\u001b[1;33m.\u001b[0m\u001b[0mgroup\u001b[0m\u001b[1;33m(\u001b[0m\u001b[1;33m)\u001b[0m\u001b[1;33m)\u001b[0m\u001b[1;33m\u001b[0m\u001b[1;33m\u001b[0m\u001b[0m\n\u001b[0m",
      "\u001b[1;31mAttributeError\u001b[0m: 'NoneType' object has no attribute 'group'"
     ]
    }
   ],
   "source": [
    "import re\n",
    "inp = input()\n",
    "line = re.match(r'^\"[a-zA-Z0-9]+\"$|^\"[+-@]+\"$|^\"\\\\[\\'\\\"\\\\]+\"$|^\"\\\\[ntrbo]\"$',inp)\n",
    "print(line.group())\n"
   ]
  },
  {
   "cell_type": "code",
   "execution_count": 18,
   "metadata": {},
   "outputs": [
    {
     "name": "stdout",
     "output_type": "stream",
     "text": [
      "%=\n",
      "==\n",
      "=publicint\n",
      "a\n",
      "=3\n",
      ";\n",
      "+\n",
      "-\n",
      "/\n",
      "+=\n",
      "=\n",
      ".\n",
      ",\n",
      "[\n",
      "]\n",
      "{\n",
      ">>\n",
      ">>\n",
      ">\n",
      "band\n",
      ",\n",
      "bor\n",
      ",\n",
      "return\n",
      "break\n",
      "switch\n",
      "\n",
      "&&int=45\n",
      "float=4\n",
      "-\n",
      "5\n",
      "/\n",
      "*\n",
      "<=\n",
      "=\n",
      ">=\n",
      "=\n",
      "++\n",
      "+\n",
      "\n",
      "\r\n",
      "#===\n",
      "+=\n",
      "=\n",
      "-=\n",
      "=\n",
      "!==&&\n",
      "\r\n",
      "%=\n",
      "=public\n",
      "static\n",
      "void\n",
      "static\n"
     ]
    }
   ],
   "source": [
    "string = '''%==publicint a =3;+-/+=., [] {>>>band,bor,returnbreakswitch\n",
    "&&int=45 float=4-5 /*<=>=<<++\n",
    "         #==+=-=!=&&\n",
    "%=public static void staticvoid''' \n",
    "op = ['+','-','*','/','%']             \n",
    "ro=['<','>','<=','>=','!','==']\n",
    "lo=['$$','||','~']\n",
    "ass=['+=','-=','*=','/=','%=','%==']\n",
    "shift=['<<','>>']\n",
    "punc=[',','.',':',',','[',']','{','}',';']\n",
    "words = ['int','public','static','void','band','bor','return','break','switch']\n",
    "key = ro+op+lo + ass+shift  + punc + words\n",
    "space = ' '\n",
    "lex = ''\n",
    "for i, char in enumerate(string):\n",
    "    if char =='+':\n",
    "        if string[i+1]=='=':\n",
    "            lex += '+='\n",
    "        elif string[i+1]=='+':\n",
    "            lex += '++'\n",
    "        else:\n",
    "            lex+= '+'\n",
    "            \n",
    "    elif char =='-':\n",
    "        if string[i+1]=='=':\n",
    "            lex += '-='\n",
    "        elif string[i+1]=='-':\n",
    "            lex += '--'\n",
    "        else:\n",
    "            lex+= '-'\n",
    "            \n",
    "    elif char =='*':\n",
    "        if string[i+1]=='=':\n",
    "            lex += '*='\n",
    "        else:\n",
    "            lex+= '*'\n",
    "            \n",
    "    elif char =='/':\n",
    "        if string[i+1]=='=':\n",
    "            lex += '/='\n",
    "        else:\n",
    "            lex+= '/'\n",
    "            \n",
    "    elif char =='%':\n",
    "        if string[i+1]=='=':\n",
    "            lex += '%=' \n",
    "        else:\n",
    "            lex+= '%'''\n",
    "            \n",
    "    elif char =='!':\n",
    "        if string[i+1]=='=':\n",
    "            lex += '!=' \n",
    "        else:\n",
    "            lex+= '!'\n",
    "            \n",
    "    elif char =='>':\n",
    "        if string[i+1]=='=':\n",
    "            lex += '>='\n",
    "            \n",
    "        elif string[i+1]=='>' and string[i+2]=='>'or string[i+1]=='>'  :\n",
    "            lex+= '>>'\n",
    "            \n",
    "        elif string[i-1]=='>' and string[i-2] =='>':\n",
    "            lex+= '>'\n",
    "            \n",
    "    elif char =='<':\n",
    "        if string[i+1]=='=':\n",
    "            lex += '<='\n",
    "        elif string[i+1]=='<' and string[i+2]=='<':\n",
    "            lex+= '<<'\n",
    "        elif string[i-1]=='<' and string[i-2] =='<':\n",
    "            lex+= '<'\n",
    "           \n",
    "    elif char =='%':        \n",
    "        if string[i+1]=='=' and string[i+2]==\"=\":\n",
    "            lex += '%=='\n",
    "        elif string[i+1]=='=' and string[i+2]!=\"=\":\n",
    "            lex += '%='\n",
    "    elif char =='=':\n",
    "        if string[i+1]=='=':\n",
    "            lex += '=='\n",
    "        else:\n",
    "            lex+= '='\n",
    "    elif char =='&':\n",
    "        if string[i+1]==char:\n",
    "            lex += '&&'       \n",
    "        \n",
    "    elif char =='~':\n",
    "         lex += '~'          \n",
    "                          \n",
    "    else:    \n",
    "         if char != space:\n",
    "                lex += char\n",
    "    if (i+1 <len(string)):\n",
    "          if string[i+1]== space or string[i+1] in key or  lex in key:\n",
    "                \n",
    "                if lex != '':\n",
    "                                 \n",
    "                    print(lex.replace('\\n','\\n\\r'))\n",
    "                    lex = ''\n"
   ]
  },
  {
   "cell_type": "code",
   "execution_count": 18,
   "metadata": {},
   "outputs": [
    {
     "ename": "SyntaxError",
     "evalue": "invalid syntax (<ipython-input-18-64aaf7edef0d>, line 6)",
     "output_type": "error",
     "traceback": [
      "\u001b[1;36m  File \u001b[1;32m\"<ipython-input-18-64aaf7edef0d>\"\u001b[1;36m, line \u001b[1;32m6\u001b[0m\n\u001b[1;33m    return print(f\"{}:{}\"token.value,token.type_)\u001b[0m\n\u001b[1;37m                             ^\u001b[0m\n\u001b[1;31mSyntaxError\u001b[0m\u001b[1;31m:\u001b[0m invalid syntax\n"
     ]
    }
   ],
   "source": [
    " \n",
    "    def __init__token(self,value,type_):\n",
    "        self.value = value\n",
    "        self.type_ = type_\n",
    "    def representation(self,text):\n",
    "        if self.value == value:\n",
    "            return print(f\"{}:{}\"token.value,token.type_)\n",
    " "
   ]
  },
  {
   "cell_type": "code",
   "execution_count": 20,
   "metadata": {},
   "outputs": [],
   "source": [
    "with open('SAF.txt','r')as f:\n",
    "    string=f.read()"
   ]
  },
  {
   "cell_type": "code",
   "execution_count": 21,
   "metadata": {},
   "outputs": [
    {
     "name": "stdout",
     "output_type": "stream",
     "text": [
      "int\n",
      "a+=\n",
      "5\n",
      "a+b\n",
      "a+++\n",
      "\n",
      "\n",
      "int\n",
      "b\n",
      "=\n",
      "6\n",
      "int\n",
      "b\n",
      "-=\n",
      "6\n",
      "a\n",
      "bor\n",
      "7\n",
      "a\n",
      "band\n",
      "2\n",
      "a\n",
      "&&\n",
      "b\n",
      "a\n",
      "!=\n",
      "3\n",
      "a\n",
      ">\n",
      "3\n",
      "a\n",
      "==\n",
      "3\n",
      "a\n",
      ">=\n",
      "3\n",
      "a\n",
      ">=\n",
      "3\n",
      "a\n",
      ">>\n",
      "3\n",
      "a\n"
     ]
    }
   ],
   "source": [
    "key=[\"5\",\"int\"]\n",
    "lex = ''\n",
    "space=' '\n",
    "for i, char in enumerate(string):\n",
    "    if char =='+':\n",
    "        if string[i+1]=='=' :\n",
    "             lex += '+'\n",
    "        elif string[i+1]=='+' :\n",
    "             lex += '++'\n",
    "        else:\n",
    "            lex+= '+'\n",
    "    else:    \n",
    "         if char != space:\n",
    "                lex += char\n",
    "    if (i+1 <len(string)):\n",
    "          if string[i+1]== space or string[i+1] in key :\n",
    "                \n",
    "                if lex != '':\n",
    "                    \n",
    "                    print(lex)            \n",
    "                    #print(lex.replace('\\n','\\n\\r'))\n",
    "                    lex = ''\n",
    "                    \n",
    "\n",
    "            "
   ]
  },
  {
   "cell_type": "code",
   "execution_count": 7,
   "metadata": {},
   "outputs": [
    {
     "ename": "SyntaxError",
     "evalue": "unexpected EOF while parsing (<ipython-input-7-09338e645347>, line 1)",
     "output_type": "error",
     "traceback": [
      "\u001b[1;36m  File \u001b[1;32m\"<ipython-input-7-09338e645347>\"\u001b[1;36m, line \u001b[1;32m1\u001b[0m\n\u001b[1;33m    if a==b and n==d :\u001b[0m\n\u001b[1;37m                      ^\u001b[0m\n\u001b[1;31mSyntaxError\u001b[0m\u001b[1;31m:\u001b[0m unexpected EOF while parsing\n"
     ]
    }
   ],
   "source": [
    "if a==b and n==d :"
   ]
  },
  {
   "cell_type": "code",
   "execution_count": null,
   "metadata": {},
   "outputs": [],
   "source": [
    "int a=b+c\n",
    "int d==u\n"
   ]
  }
 ],
 "metadata": {
  "kernelspec": {
   "display_name": "Python 3",
   "language": "python",
   "name": "python3"
  },
  "language_info": {
   "codemirror_mode": {
    "name": "ipython",
    "version": 3
   },
   "file_extension": ".py",
   "mimetype": "text/x-python",
   "name": "python",
   "nbconvert_exporter": "python",
   "pygments_lexer": "ipython3",
   "version": "3.7.3"
  }
 },
 "nbformat": 4,
 "nbformat_minor": 2
}
